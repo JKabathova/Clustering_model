{
 "cells": [
  {
   "cell_type": "code",
   "execution_count": 1,
   "metadata": {},
   "outputs": [],
   "source": [
    "# import neccessaries libraries\n",
    "import pandas as pd\n",
    "import numpy as np\n",
    "from sklearn.preprocessing import LabelEncoder\n",
    "from sklearn.cluster import KMeans\n",
    "import seaborn as sns\n",
    "import matplotlib.pyplot as plt\n",
    "%matplotlib inline\n",
    "from sklearn.metrics import davies_bouldin_score\n",
    "from sklearn.metrics import pairwise_distances\n",
    "from sklearn import metrics"
   ]
  },
  {
   "cell_type": "code",
   "execution_count": 2,
   "metadata": {},
   "outputs": [],
   "source": [
    "# importing the dataset\n",
    "data = pd.read_csv(\"fin_data.csv\", sep=';')"
   ]
  },
  {
   "cell_type": "code",
   "execution_count": 3,
   "metadata": {},
   "outputs": [
    {
     "data": {
      "text/html": [
       "<div>\n",
       "<style scoped>\n",
       "    .dataframe tbody tr th:only-of-type {\n",
       "        vertical-align: middle;\n",
       "    }\n",
       "\n",
       "    .dataframe tbody tr th {\n",
       "        vertical-align: top;\n",
       "    }\n",
       "\n",
       "    .dataframe thead th {\n",
       "        text-align: right;\n",
       "    }\n",
       "</style>\n",
       "<table border=\"1\" class=\"dataframe\">\n",
       "  <thead>\n",
       "    <tr style=\"text-align: right;\">\n",
       "      <th></th>\n",
       "      <th>component</th>\n",
       "      <th>action</th>\n",
       "      <th>target</th>\n",
       "      <th>objectid</th>\n",
       "      <th>contextid</th>\n",
       "      <th>contextlevel</th>\n",
       "      <th>contextinstanceid</th>\n",
       "      <th>userid</th>\n",
       "      <th>courseid</th>\n",
       "      <th>timecreated</th>\n",
       "    </tr>\n",
       "  </thead>\n",
       "  <tbody>\n",
       "    <tr>\n",
       "      <th>0</th>\n",
       "      <td>mod_page</td>\n",
       "      <td>viewed</td>\n",
       "      <td>course_module</td>\n",
       "      <td>7027</td>\n",
       "      <td>212936</td>\n",
       "      <td>70</td>\n",
       "      <td>95231</td>\n",
       "      <td>17</td>\n",
       "      <td>1489</td>\n",
       "      <td>1550343718</td>\n",
       "    </tr>\n",
       "    <tr>\n",
       "      <th>1</th>\n",
       "      <td>mod_resource</td>\n",
       "      <td>viewed</td>\n",
       "      <td>course_module</td>\n",
       "      <td>32534</td>\n",
       "      <td>213483</td>\n",
       "      <td>70</td>\n",
       "      <td>95760</td>\n",
       "      <td>10746</td>\n",
       "      <td>1489</td>\n",
       "      <td>1550349523</td>\n",
       "    </tr>\n",
       "    <tr>\n",
       "      <th>2</th>\n",
       "      <td>mod_resource</td>\n",
       "      <td>viewed</td>\n",
       "      <td>course_module</td>\n",
       "      <td>32532</td>\n",
       "      <td>213481</td>\n",
       "      <td>70</td>\n",
       "      <td>95758</td>\n",
       "      <td>10746</td>\n",
       "      <td>1489</td>\n",
       "      <td>1550349602</td>\n",
       "    </tr>\n",
       "    <tr>\n",
       "      <th>3</th>\n",
       "      <td>mod_resource</td>\n",
       "      <td>viewed</td>\n",
       "      <td>course_module</td>\n",
       "      <td>32534</td>\n",
       "      <td>213483</td>\n",
       "      <td>70</td>\n",
       "      <td>95760</td>\n",
       "      <td>10746</td>\n",
       "      <td>1489</td>\n",
       "      <td>1550349773</td>\n",
       "    </tr>\n",
       "    <tr>\n",
       "      <th>4</th>\n",
       "      <td>mod_resource</td>\n",
       "      <td>viewed</td>\n",
       "      <td>course_module</td>\n",
       "      <td>32280</td>\n",
       "      <td>212944</td>\n",
       "      <td>70</td>\n",
       "      <td>95239</td>\n",
       "      <td>10746</td>\n",
       "      <td>1489</td>\n",
       "      <td>1550352803</td>\n",
       "    </tr>\n",
       "  </tbody>\n",
       "</table>\n",
       "</div>"
      ],
      "text/plain": [
       "      component  action         target  objectid  contextid  contextlevel  \\\n",
       "0      mod_page  viewed  course_module      7027     212936            70   \n",
       "1  mod_resource  viewed  course_module     32534     213483            70   \n",
       "2  mod_resource  viewed  course_module     32532     213481            70   \n",
       "3  mod_resource  viewed  course_module     32534     213483            70   \n",
       "4  mod_resource  viewed  course_module     32280     212944            70   \n",
       "\n",
       "   contextinstanceid  userid  courseid  timecreated  \n",
       "0              95231      17      1489   1550343718  \n",
       "1              95760   10746      1489   1550349523  \n",
       "2              95758   10746      1489   1550349602  \n",
       "3              95760   10746      1489   1550349773  \n",
       "4              95239   10746      1489   1550352803  "
      ]
     },
     "execution_count": 3,
     "metadata": {},
     "output_type": "execute_result"
    }
   ],
   "source": [
    "# previewing the dataset\n",
    "data.head()"
   ]
  },
  {
   "cell_type": "code",
   "execution_count": 4,
   "metadata": {},
   "outputs": [
    {
     "name": "stdout",
     "output_type": "stream",
     "text": [
      "component            0\n",
      "action               0\n",
      "target               0\n",
      "objectid             0\n",
      "contextid            0\n",
      "contextlevel         0\n",
      "contextinstanceid    0\n",
      "userid               0\n",
      "courseid             0\n",
      "timecreated          0\n",
      "dtype: int64\n"
     ]
    }
   ],
   "source": [
    "# printing the missing values\n",
    "print(data.isnull().sum())"
   ]
  },
  {
   "cell_type": "code",
   "execution_count": 5,
   "metadata": {},
   "outputs": [
    {
     "name": "stdout",
     "output_type": "stream",
     "text": [
      "<class 'pandas.core.frame.DataFrame'>\n",
      "RangeIndex: 44285 entries, 0 to 44284\n",
      "Data columns (total 10 columns):\n",
      " #   Column             Non-Null Count  Dtype \n",
      "---  ------             --------------  ----- \n",
      " 0   component          44285 non-null  object\n",
      " 1   action             44285 non-null  object\n",
      " 2   target             44285 non-null  object\n",
      " 3   objectid           44285 non-null  int64 \n",
      " 4   contextid          44285 non-null  int64 \n",
      " 5   contextlevel       44285 non-null  int64 \n",
      " 6   contextinstanceid  44285 non-null  int64 \n",
      " 7   userid             44285 non-null  int64 \n",
      " 8   courseid           44285 non-null  int64 \n",
      " 9   timecreated        44285 non-null  int64 \n",
      "dtypes: int64(7), object(3)\n",
      "memory usage: 3.4+ MB\n"
     ]
    }
   ],
   "source": [
    "# getting info about data\n",
    "data.info()"
   ]
  },
  {
   "cell_type": "code",
   "execution_count": 6,
   "metadata": {},
   "outputs": [],
   "source": [
    "# feature vector\n",
    "X = data\n",
    "\n",
    "# target variable\n",
    "y = data['component']\n",
    "y = data['action']\n",
    "y = data['target']\n",
    "\n",
    "\n",
    "\n",
    "# importing label encoder\n",
    "from sklearn.preprocessing import LabelEncoder\n",
    "\n",
    "# converting the non-numeric to numeric values\n",
    "le = LabelEncoder()\n",
    "X['component'] = le.fit_transform(X['component'])\n",
    "X['action'] = le.fit_transform(X['action'])\n",
    "X['target'] = le.fit_transform(X['target'])\n",
    "\n",
    "\n",
    "\n",
    "y = le.transform(y)"
   ]
  },
  {
   "cell_type": "code",
   "execution_count": 7,
   "metadata": {},
   "outputs": [
    {
     "data": {
      "text/html": [
       "<div>\n",
       "<style scoped>\n",
       "    .dataframe tbody tr th:only-of-type {\n",
       "        vertical-align: middle;\n",
       "    }\n",
       "\n",
       "    .dataframe tbody tr th {\n",
       "        vertical-align: top;\n",
       "    }\n",
       "\n",
       "    .dataframe thead th {\n",
       "        text-align: right;\n",
       "    }\n",
       "</style>\n",
       "<table border=\"1\" class=\"dataframe\">\n",
       "  <thead>\n",
       "    <tr style=\"text-align: right;\">\n",
       "      <th></th>\n",
       "      <th>component</th>\n",
       "      <th>action</th>\n",
       "      <th>target</th>\n",
       "      <th>objectid</th>\n",
       "      <th>contextid</th>\n",
       "      <th>contextlevel</th>\n",
       "      <th>contextinstanceid</th>\n",
       "      <th>userid</th>\n",
       "      <th>courseid</th>\n",
       "      <th>timecreated</th>\n",
       "    </tr>\n",
       "  </thead>\n",
       "  <tbody>\n",
       "    <tr>\n",
       "      <th>0</th>\n",
       "      <td>7</td>\n",
       "      <td>11</td>\n",
       "      <td>3</td>\n",
       "      <td>7027</td>\n",
       "      <td>212936</td>\n",
       "      <td>70</td>\n",
       "      <td>95231</td>\n",
       "      <td>17</td>\n",
       "      <td>1489</td>\n",
       "      <td>1550343718</td>\n",
       "    </tr>\n",
       "    <tr>\n",
       "      <th>1</th>\n",
       "      <td>9</td>\n",
       "      <td>11</td>\n",
       "      <td>3</td>\n",
       "      <td>32534</td>\n",
       "      <td>213483</td>\n",
       "      <td>70</td>\n",
       "      <td>95760</td>\n",
       "      <td>10746</td>\n",
       "      <td>1489</td>\n",
       "      <td>1550349523</td>\n",
       "    </tr>\n",
       "    <tr>\n",
       "      <th>2</th>\n",
       "      <td>9</td>\n",
       "      <td>11</td>\n",
       "      <td>3</td>\n",
       "      <td>32532</td>\n",
       "      <td>213481</td>\n",
       "      <td>70</td>\n",
       "      <td>95758</td>\n",
       "      <td>10746</td>\n",
       "      <td>1489</td>\n",
       "      <td>1550349602</td>\n",
       "    </tr>\n",
       "    <tr>\n",
       "      <th>3</th>\n",
       "      <td>9</td>\n",
       "      <td>11</td>\n",
       "      <td>3</td>\n",
       "      <td>32534</td>\n",
       "      <td>213483</td>\n",
       "      <td>70</td>\n",
       "      <td>95760</td>\n",
       "      <td>10746</td>\n",
       "      <td>1489</td>\n",
       "      <td>1550349773</td>\n",
       "    </tr>\n",
       "    <tr>\n",
       "      <th>4</th>\n",
       "      <td>9</td>\n",
       "      <td>11</td>\n",
       "      <td>3</td>\n",
       "      <td>32280</td>\n",
       "      <td>212944</td>\n",
       "      <td>70</td>\n",
       "      <td>95239</td>\n",
       "      <td>10746</td>\n",
       "      <td>1489</td>\n",
       "      <td>1550352803</td>\n",
       "    </tr>\n",
       "  </tbody>\n",
       "</table>\n",
       "</div>"
      ],
      "text/plain": [
       "   component  action  target  objectid  contextid  contextlevel  \\\n",
       "0          7      11       3      7027     212936            70   \n",
       "1          9      11       3     32534     213483            70   \n",
       "2          9      11       3     32532     213481            70   \n",
       "3          9      11       3     32534     213483            70   \n",
       "4          9      11       3     32280     212944            70   \n",
       "\n",
       "   contextinstanceid  userid  courseid  timecreated  \n",
       "0              95231      17      1489   1550343718  \n",
       "1              95760   10746      1489   1550349523  \n",
       "2              95758   10746      1489   1550349602  \n",
       "3              95760   10746      1489   1550349773  \n",
       "4              95239   10746      1489   1550352803  "
      ]
     },
     "execution_count": 7,
     "metadata": {},
     "output_type": "execute_result"
    }
   ],
   "source": [
    "# printing the dataset\n",
    "X.head()"
   ]
  },
  {
   "cell_type": "code",
   "execution_count": 8,
   "metadata": {},
   "outputs": [
    {
     "data": {
      "text/plain": [
       "array([[9.06210577e+00, 9.04663324e+00, 4.64251442e+00, 8.14029544e+04,\n",
       "        2.15952945e+05, 7.00000000e+01, 9.65621094e+04, 2.05416459e+04,\n",
       "        1.48900000e+03, 1.55473559e+09],\n",
       "       [8.50784893e+00, 1.02437053e+01, 2.67015076e+00, 1.09761987e+05,\n",
       "        2.14376843e+05, 7.00000000e+01, 9.59243944e+04, 2.07883324e+04,\n",
       "        1.48900000e+03, 1.55898577e+09]])"
      ]
     },
     "execution_count": 8,
     "metadata": {},
     "output_type": "execute_result"
    }
   ],
   "source": [
    "# importing k-mean\n",
    "from sklearn.cluster import KMeans\n",
    "\n",
    "# k value assigned to 2\n",
    "kmeans = KMeans(n_clusters=2, random_state=0) \n",
    "\n",
    "# fitting the values\n",
    "kmeans.fit(X)\n",
    "\n",
    "# Cluster centers\n",
    "kmeans.cluster_centers_"
   ]
  },
  {
   "cell_type": "code",
   "execution_count": 9,
   "metadata": {},
   "outputs": [
    {
     "name": "stdout",
     "output_type": "stream",
     "text": [
      "9.28893612570614e+16\n"
     ]
    }
   ],
   "source": [
    "# printing the value of inertia\n",
    "print (kmeans.inertia_)"
   ]
  },
  {
   "cell_type": "code",
   "execution_count": 10,
   "metadata": {},
   "outputs": [
    {
     "name": "stdout",
     "output_type": "stream",
     "text": [
      "Result: 11865 out of 44285 samples were correctly labeled.\n"
     ]
    }
   ],
   "source": [
    "# stroing labels\n",
    "labels = kmeans.labels_\n",
    "\n",
    "# check how many of the samples were correctly labeled\n",
    "correct_labels = sum(y == labels)\n",
    "\n",
    "# printing the results\n",
    "print(\"Result: %d out of %d samples were correctly labeled.\" % (correct_labels, y.size))"
   ]
  },
  {
   "cell_type": "code",
   "execution_count": 11,
   "metadata": {},
   "outputs": [
    {
     "data": {
      "image/png": "[encoded data removed]",
      "text/plain": [
       "<Figure size 720x360 with 1 Axes>"
      ]
     },
     "metadata": {
      "needs_background": "light"
     },
     "output_type": "display_data"
    }
   ],
   "source": [
    "# Using the elbow method to find the optimal number of clusters\n",
    "from sklearn.cluster import KMeans\n",
    "\n",
    "# to store WCSS\n",
    "wcss = []\n",
    "\n",
    "# for loop \n",
    "for i in range(1, 9):\n",
    "    \n",
    "    # k-mean cluster model for different k values\n",
    "    kmeans = KMeans(n_clusters = i, init = 'k-means++', random_state = 42)\n",
    "    kmeans.fit(X)\n",
    "    \n",
    "    # inertia method returns wcss for that model\n",
    "    wcss.append(kmeans.inertia_)\n",
    "    \n",
    "# importing the matplotlib module\n",
    "import matplotlib.pyplot as plt\n",
    "\n",
    "# figure size\n",
    "plt.figure(figsize=(10,5))\n",
    "sns.lineplot(range(1, 9), wcss,marker='o',color='green')\n",
    "\n",
    "# labeling\n",
    "plt.title('The Elbow Method')\n",
    "plt.xlabel('Number of clusters')\n",
    "plt.ylabel('SSE')\n",
    "plt.show()"
   ]
  },
  {
   "cell_type": "code",
   "execution_count": 12,
   "metadata": {},
   "outputs": [
    {
     "name": "stdout",
     "output_type": "stream",
     "text": [
      "91714.64338887046\n"
     ]
    }
   ],
   "source": [
    "kmeans = KMeans(n_clusters=3, random_state=1).fit(X)\n",
    "labels = kmeans.labels_\n",
    " \n",
    "print(metrics.calinski_harabasz_score(X, labels))"
   ]
  },
  {
   "cell_type": "code",
   "execution_count": 13,
   "metadata": {},
   "outputs": [
    {
     "name": "stdout",
     "output_type": "stream",
     "text": [
      "0.40738342344782064\n"
     ]
    }
   ],
   "source": [
    "kmeans = KMeans(n_clusters=4, random_state=20)\n",
    "labels = kmeans.fit_predict(X)\n",
    "\n",
    "db_index = davies_bouldin_score(X, labels)\n",
    "print(db_index)"
   ]
  }
 ],
 "metadata": {
  "kernelspec": {
   "display_name": "Python 3",
   "language": "python",
   "name": "python3"
  },
  "language_info": {
   "codemirror_mode": {
    "name": "ipython",
    "version": 3
   },
   "file_extension": ".py",
   "mimetype": "text/x-python",
   "name": "python",
   "nbconvert_exporter": "python",
   "pygments_lexer": "ipython3",
   "version": "3.8.3"
  }
 },
 "nbformat": 4,
 "nbformat_minor": 4
}
